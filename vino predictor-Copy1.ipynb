{
 "cells": [
  {
   "cell_type": "code",
   "execution_count": 1,
   "id": "692f7a5a",
   "metadata": {},
   "outputs": [],
   "source": [
    "import pandas as pd"
   ]
  },
  {
   "cell_type": "code",
   "execution_count": 2,
   "id": "4e2d4038",
   "metadata": {},
   "outputs": [],
   "source": [
    "data = pd.read_csv('winequality-red.csv')"
   ]
  },
  {
   "cell_type": "code",
   "execution_count": 3,
   "id": "8a9b82e8",
   "metadata": {},
   "outputs": [],
   "source": [
    "#1. CARACTERISTICAS DEL DATASET."
   ]
  },
  {
   "cell_type": "code",
   "execution_count": 4,
   "id": "bc906aad",
   "metadata": {},
   "outputs": [
    {
     "data": {
      "text/html": [
       "<div>\n",
       "<style scoped>\n",
       "    .dataframe tbody tr th:only-of-type {\n",
       "        vertical-align: middle;\n",
       "    }\n",
       "\n",
       "    .dataframe tbody tr th {\n",
       "        vertical-align: top;\n",
       "    }\n",
       "\n",
       "    .dataframe thead th {\n",
       "        text-align: right;\n",
       "    }\n",
       "</style>\n",
       "<table border=\"1\" class=\"dataframe\">\n",
       "  <thead>\n",
       "    <tr style=\"text-align: right;\">\n",
       "      <th></th>\n",
       "      <th>fixed acidity</th>\n",
       "      <th>volatile acidity</th>\n",
       "      <th>citric acid</th>\n",
       "      <th>residual sugar</th>\n",
       "      <th>chlorides</th>\n",
       "      <th>free sulfur dioxide</th>\n",
       "      <th>total sulfur dioxide</th>\n",
       "      <th>density</th>\n",
       "      <th>pH</th>\n",
       "      <th>sulphates</th>\n",
       "      <th>alcohol</th>\n",
       "      <th>quality</th>\n",
       "    </tr>\n",
       "  </thead>\n",
       "  <tbody>\n",
       "    <tr>\n",
       "      <th>0</th>\n",
       "      <td>7.4</td>\n",
       "      <td>0.70</td>\n",
       "      <td>0.00</td>\n",
       "      <td>1.9</td>\n",
       "      <td>0.076</td>\n",
       "      <td>11.0</td>\n",
       "      <td>34.0</td>\n",
       "      <td>0.9978</td>\n",
       "      <td>3.51</td>\n",
       "      <td>0.56</td>\n",
       "      <td>9.4</td>\n",
       "      <td>5</td>\n",
       "    </tr>\n",
       "    <tr>\n",
       "      <th>1</th>\n",
       "      <td>7.8</td>\n",
       "      <td>0.88</td>\n",
       "      <td>0.00</td>\n",
       "      <td>2.6</td>\n",
       "      <td>0.098</td>\n",
       "      <td>25.0</td>\n",
       "      <td>67.0</td>\n",
       "      <td>0.9968</td>\n",
       "      <td>3.20</td>\n",
       "      <td>0.68</td>\n",
       "      <td>9.8</td>\n",
       "      <td>5</td>\n",
       "    </tr>\n",
       "    <tr>\n",
       "      <th>2</th>\n",
       "      <td>7.8</td>\n",
       "      <td>0.76</td>\n",
       "      <td>0.04</td>\n",
       "      <td>2.3</td>\n",
       "      <td>0.092</td>\n",
       "      <td>15.0</td>\n",
       "      <td>54.0</td>\n",
       "      <td>0.9970</td>\n",
       "      <td>3.26</td>\n",
       "      <td>0.65</td>\n",
       "      <td>9.8</td>\n",
       "      <td>5</td>\n",
       "    </tr>\n",
       "    <tr>\n",
       "      <th>3</th>\n",
       "      <td>11.2</td>\n",
       "      <td>0.28</td>\n",
       "      <td>0.56</td>\n",
       "      <td>1.9</td>\n",
       "      <td>0.075</td>\n",
       "      <td>17.0</td>\n",
       "      <td>60.0</td>\n",
       "      <td>0.9980</td>\n",
       "      <td>3.16</td>\n",
       "      <td>0.58</td>\n",
       "      <td>9.8</td>\n",
       "      <td>6</td>\n",
       "    </tr>\n",
       "    <tr>\n",
       "      <th>4</th>\n",
       "      <td>7.4</td>\n",
       "      <td>0.70</td>\n",
       "      <td>0.00</td>\n",
       "      <td>1.9</td>\n",
       "      <td>0.076</td>\n",
       "      <td>11.0</td>\n",
       "      <td>34.0</td>\n",
       "      <td>0.9978</td>\n",
       "      <td>3.51</td>\n",
       "      <td>0.56</td>\n",
       "      <td>9.4</td>\n",
       "      <td>5</td>\n",
       "    </tr>\n",
       "  </tbody>\n",
       "</table>\n",
       "</div>"
      ],
      "text/plain": [
       "   fixed acidity  volatile acidity  citric acid  residual sugar  chlorides  \\\n",
       "0            7.4              0.70         0.00             1.9      0.076   \n",
       "1            7.8              0.88         0.00             2.6      0.098   \n",
       "2            7.8              0.76         0.04             2.3      0.092   \n",
       "3           11.2              0.28         0.56             1.9      0.075   \n",
       "4            7.4              0.70         0.00             1.9      0.076   \n",
       "\n",
       "   free sulfur dioxide  total sulfur dioxide  density    pH  sulphates  \\\n",
       "0                 11.0                  34.0   0.9978  3.51       0.56   \n",
       "1                 25.0                  67.0   0.9968  3.20       0.68   \n",
       "2                 15.0                  54.0   0.9970  3.26       0.65   \n",
       "3                 17.0                  60.0   0.9980  3.16       0.58   \n",
       "4                 11.0                  34.0   0.9978  3.51       0.56   \n",
       "\n",
       "   alcohol  quality  \n",
       "0      9.4        5  \n",
       "1      9.8        5  \n",
       "2      9.8        5  \n",
       "3      9.8        6  \n",
       "4      9.4        5  "
      ]
     },
     "execution_count": 4,
     "metadata": {},
     "output_type": "execute_result"
    }
   ],
   "source": [
    "data.head()"
   ]
  },
  {
   "cell_type": "code",
   "execution_count": 5,
   "id": "4dbb6519",
   "metadata": {},
   "outputs": [
    {
     "data": {
      "text/html": [
       "<div>\n",
       "<style scoped>\n",
       "    .dataframe tbody tr th:only-of-type {\n",
       "        vertical-align: middle;\n",
       "    }\n",
       "\n",
       "    .dataframe tbody tr th {\n",
       "        vertical-align: top;\n",
       "    }\n",
       "\n",
       "    .dataframe thead th {\n",
       "        text-align: right;\n",
       "    }\n",
       "</style>\n",
       "<table border=\"1\" class=\"dataframe\">\n",
       "  <thead>\n",
       "    <tr style=\"text-align: right;\">\n",
       "      <th></th>\n",
       "      <th>fixed acidity</th>\n",
       "      <th>volatile acidity</th>\n",
       "      <th>citric acid</th>\n",
       "      <th>residual sugar</th>\n",
       "      <th>chlorides</th>\n",
       "      <th>free sulfur dioxide</th>\n",
       "      <th>total sulfur dioxide</th>\n",
       "      <th>density</th>\n",
       "      <th>pH</th>\n",
       "      <th>sulphates</th>\n",
       "      <th>alcohol</th>\n",
       "      <th>quality</th>\n",
       "    </tr>\n",
       "  </thead>\n",
       "  <tbody>\n",
       "    <tr>\n",
       "      <th>1594</th>\n",
       "      <td>6.2</td>\n",
       "      <td>0.600</td>\n",
       "      <td>0.08</td>\n",
       "      <td>2.0</td>\n",
       "      <td>0.090</td>\n",
       "      <td>32.0</td>\n",
       "      <td>44.0</td>\n",
       "      <td>0.99490</td>\n",
       "      <td>3.45</td>\n",
       "      <td>0.58</td>\n",
       "      <td>10.5</td>\n",
       "      <td>5</td>\n",
       "    </tr>\n",
       "    <tr>\n",
       "      <th>1595</th>\n",
       "      <td>5.9</td>\n",
       "      <td>0.550</td>\n",
       "      <td>0.10</td>\n",
       "      <td>2.2</td>\n",
       "      <td>0.062</td>\n",
       "      <td>39.0</td>\n",
       "      <td>51.0</td>\n",
       "      <td>0.99512</td>\n",
       "      <td>3.52</td>\n",
       "      <td>0.76</td>\n",
       "      <td>11.2</td>\n",
       "      <td>6</td>\n",
       "    </tr>\n",
       "    <tr>\n",
       "      <th>1596</th>\n",
       "      <td>6.3</td>\n",
       "      <td>0.510</td>\n",
       "      <td>0.13</td>\n",
       "      <td>2.3</td>\n",
       "      <td>0.076</td>\n",
       "      <td>29.0</td>\n",
       "      <td>40.0</td>\n",
       "      <td>0.99574</td>\n",
       "      <td>3.42</td>\n",
       "      <td>0.75</td>\n",
       "      <td>11.0</td>\n",
       "      <td>6</td>\n",
       "    </tr>\n",
       "    <tr>\n",
       "      <th>1597</th>\n",
       "      <td>5.9</td>\n",
       "      <td>0.645</td>\n",
       "      <td>0.12</td>\n",
       "      <td>2.0</td>\n",
       "      <td>0.075</td>\n",
       "      <td>32.0</td>\n",
       "      <td>44.0</td>\n",
       "      <td>0.99547</td>\n",
       "      <td>3.57</td>\n",
       "      <td>0.71</td>\n",
       "      <td>10.2</td>\n",
       "      <td>5</td>\n",
       "    </tr>\n",
       "    <tr>\n",
       "      <th>1598</th>\n",
       "      <td>6.0</td>\n",
       "      <td>0.310</td>\n",
       "      <td>0.47</td>\n",
       "      <td>3.6</td>\n",
       "      <td>0.067</td>\n",
       "      <td>18.0</td>\n",
       "      <td>42.0</td>\n",
       "      <td>0.99549</td>\n",
       "      <td>3.39</td>\n",
       "      <td>0.66</td>\n",
       "      <td>11.0</td>\n",
       "      <td>6</td>\n",
       "    </tr>\n",
       "  </tbody>\n",
       "</table>\n",
       "</div>"
      ],
      "text/plain": [
       "      fixed acidity  volatile acidity  citric acid  residual sugar  chlorides  \\\n",
       "1594            6.2             0.600         0.08             2.0      0.090   \n",
       "1595            5.9             0.550         0.10             2.2      0.062   \n",
       "1596            6.3             0.510         0.13             2.3      0.076   \n",
       "1597            5.9             0.645         0.12             2.0      0.075   \n",
       "1598            6.0             0.310         0.47             3.6      0.067   \n",
       "\n",
       "      free sulfur dioxide  total sulfur dioxide  density    pH  sulphates  \\\n",
       "1594                 32.0                  44.0  0.99490  3.45       0.58   \n",
       "1595                 39.0                  51.0  0.99512  3.52       0.76   \n",
       "1596                 29.0                  40.0  0.99574  3.42       0.75   \n",
       "1597                 32.0                  44.0  0.99547  3.57       0.71   \n",
       "1598                 18.0                  42.0  0.99549  3.39       0.66   \n",
       "\n",
       "      alcohol  quality  \n",
       "1594     10.5        5  \n",
       "1595     11.2        6  \n",
       "1596     11.0        6  \n",
       "1597     10.2        5  \n",
       "1598     11.0        6  "
      ]
     },
     "execution_count": 5,
     "metadata": {},
     "output_type": "execute_result"
    }
   ],
   "source": [
    "data.tail()\n"
   ]
  },
  {
   "cell_type": "code",
   "execution_count": 6,
   "id": "c3467c1a",
   "metadata": {},
   "outputs": [
    {
     "data": {
      "text/plain": [
       "(1599, 12)"
      ]
     },
     "execution_count": 6,
     "metadata": {},
     "output_type": "execute_result"
    }
   ],
   "source": [
    "data.shape"
   ]
  },
  {
   "cell_type": "code",
   "execution_count": 7,
   "id": "9eee0c51",
   "metadata": {},
   "outputs": [
    {
     "name": "stdout",
     "output_type": "stream",
     "text": [
      "Number of Rows 1599\n",
      "Number of Columns 12\n"
     ]
    }
   ],
   "source": [
    "print(\"Number of Rows\",data.shape[0])\n",
    "print(\"Number of Columns\",data.shape[1])"
   ]
  },
  {
   "cell_type": "code",
   "execution_count": 8,
   "id": "df991ffb",
   "metadata": {},
   "outputs": [
    {
     "name": "stdout",
     "output_type": "stream",
     "text": [
      "<class 'pandas.core.frame.DataFrame'>\n",
      "RangeIndex: 1599 entries, 0 to 1598\n",
      "Data columns (total 12 columns):\n",
      " #   Column                Non-Null Count  Dtype  \n",
      "---  ------                --------------  -----  \n",
      " 0   fixed acidity         1599 non-null   float64\n",
      " 1   volatile acidity      1599 non-null   float64\n",
      " 2   citric acid           1599 non-null   float64\n",
      " 3   residual sugar        1599 non-null   float64\n",
      " 4   chlorides             1599 non-null   float64\n",
      " 5   free sulfur dioxide   1599 non-null   float64\n",
      " 6   total sulfur dioxide  1599 non-null   float64\n",
      " 7   density               1599 non-null   float64\n",
      " 8   pH                    1599 non-null   float64\n",
      " 9   sulphates             1599 non-null   float64\n",
      " 10  alcohol               1599 non-null   float64\n",
      " 11  quality               1599 non-null   int64  \n",
      "dtypes: float64(11), int64(1)\n",
      "memory usage: 150.0 KB\n"
     ]
    }
   ],
   "source": [
    "data.info()\n",
    "# NOS FIJAMOS QUE TIPO DE INFO ES, PARA MODELAR."
   ]
  },
  {
   "cell_type": "code",
   "execution_count": 9,
   "id": "5ca02598",
   "metadata": {},
   "outputs": [
    {
     "data": {
      "text/plain": [
       "fixed acidity           0\n",
       "volatile acidity        0\n",
       "citric acid             0\n",
       "residual sugar          0\n",
       "chlorides               0\n",
       "free sulfur dioxide     0\n",
       "total sulfur dioxide    0\n",
       "density                 0\n",
       "pH                      0\n",
       "sulphates               0\n",
       "alcohol                 0\n",
       "quality                 0\n",
       "dtype: int64"
      ]
     },
     "execution_count": 9,
     "metadata": {},
     "output_type": "execute_result"
    }
   ],
   "source": [
    "data.isnull().sum()\n",
    "# NO HAY NULL, BUENA NOTICIA."
   ]
  },
  {
   "cell_type": "code",
   "execution_count": 10,
   "id": "87308c55",
   "metadata": {},
   "outputs": [
    {
     "data": {
      "text/html": [
       "<div>\n",
       "<style scoped>\n",
       "    .dataframe tbody tr th:only-of-type {\n",
       "        vertical-align: middle;\n",
       "    }\n",
       "\n",
       "    .dataframe tbody tr th {\n",
       "        vertical-align: top;\n",
       "    }\n",
       "\n",
       "    .dataframe thead th {\n",
       "        text-align: right;\n",
       "    }\n",
       "</style>\n",
       "<table border=\"1\" class=\"dataframe\">\n",
       "  <thead>\n",
       "    <tr style=\"text-align: right;\">\n",
       "      <th></th>\n",
       "      <th>fixed acidity</th>\n",
       "      <th>volatile acidity</th>\n",
       "      <th>citric acid</th>\n",
       "      <th>residual sugar</th>\n",
       "      <th>chlorides</th>\n",
       "      <th>free sulfur dioxide</th>\n",
       "      <th>total sulfur dioxide</th>\n",
       "      <th>density</th>\n",
       "      <th>pH</th>\n",
       "      <th>sulphates</th>\n",
       "      <th>alcohol</th>\n",
       "      <th>quality</th>\n",
       "    </tr>\n",
       "  </thead>\n",
       "  <tbody>\n",
       "    <tr>\n",
       "      <th>count</th>\n",
       "      <td>1599.000000</td>\n",
       "      <td>1599.000000</td>\n",
       "      <td>1599.000000</td>\n",
       "      <td>1599.000000</td>\n",
       "      <td>1599.000000</td>\n",
       "      <td>1599.000000</td>\n",
       "      <td>1599.000000</td>\n",
       "      <td>1599.000000</td>\n",
       "      <td>1599.000000</td>\n",
       "      <td>1599.000000</td>\n",
       "      <td>1599.000000</td>\n",
       "      <td>1599.000000</td>\n",
       "    </tr>\n",
       "    <tr>\n",
       "      <th>mean</th>\n",
       "      <td>8.319637</td>\n",
       "      <td>0.527821</td>\n",
       "      <td>0.270976</td>\n",
       "      <td>2.538806</td>\n",
       "      <td>0.087467</td>\n",
       "      <td>15.874922</td>\n",
       "      <td>46.467792</td>\n",
       "      <td>0.996747</td>\n",
       "      <td>3.311113</td>\n",
       "      <td>0.658149</td>\n",
       "      <td>10.422983</td>\n",
       "      <td>5.636023</td>\n",
       "    </tr>\n",
       "    <tr>\n",
       "      <th>std</th>\n",
       "      <td>1.741096</td>\n",
       "      <td>0.179060</td>\n",
       "      <td>0.194801</td>\n",
       "      <td>1.409928</td>\n",
       "      <td>0.047065</td>\n",
       "      <td>10.460157</td>\n",
       "      <td>32.895324</td>\n",
       "      <td>0.001887</td>\n",
       "      <td>0.154386</td>\n",
       "      <td>0.169507</td>\n",
       "      <td>1.065668</td>\n",
       "      <td>0.807569</td>\n",
       "    </tr>\n",
       "    <tr>\n",
       "      <th>min</th>\n",
       "      <td>4.600000</td>\n",
       "      <td>0.120000</td>\n",
       "      <td>0.000000</td>\n",
       "      <td>0.900000</td>\n",
       "      <td>0.012000</td>\n",
       "      <td>1.000000</td>\n",
       "      <td>6.000000</td>\n",
       "      <td>0.990070</td>\n",
       "      <td>2.740000</td>\n",
       "      <td>0.330000</td>\n",
       "      <td>8.400000</td>\n",
       "      <td>3.000000</td>\n",
       "    </tr>\n",
       "    <tr>\n",
       "      <th>25%</th>\n",
       "      <td>7.100000</td>\n",
       "      <td>0.390000</td>\n",
       "      <td>0.090000</td>\n",
       "      <td>1.900000</td>\n",
       "      <td>0.070000</td>\n",
       "      <td>7.000000</td>\n",
       "      <td>22.000000</td>\n",
       "      <td>0.995600</td>\n",
       "      <td>3.210000</td>\n",
       "      <td>0.550000</td>\n",
       "      <td>9.500000</td>\n",
       "      <td>5.000000</td>\n",
       "    </tr>\n",
       "    <tr>\n",
       "      <th>50%</th>\n",
       "      <td>7.900000</td>\n",
       "      <td>0.520000</td>\n",
       "      <td>0.260000</td>\n",
       "      <td>2.200000</td>\n",
       "      <td>0.079000</td>\n",
       "      <td>14.000000</td>\n",
       "      <td>38.000000</td>\n",
       "      <td>0.996750</td>\n",
       "      <td>3.310000</td>\n",
       "      <td>0.620000</td>\n",
       "      <td>10.200000</td>\n",
       "      <td>6.000000</td>\n",
       "    </tr>\n",
       "    <tr>\n",
       "      <th>75%</th>\n",
       "      <td>9.200000</td>\n",
       "      <td>0.640000</td>\n",
       "      <td>0.420000</td>\n",
       "      <td>2.600000</td>\n",
       "      <td>0.090000</td>\n",
       "      <td>21.000000</td>\n",
       "      <td>62.000000</td>\n",
       "      <td>0.997835</td>\n",
       "      <td>3.400000</td>\n",
       "      <td>0.730000</td>\n",
       "      <td>11.100000</td>\n",
       "      <td>6.000000</td>\n",
       "    </tr>\n",
       "    <tr>\n",
       "      <th>max</th>\n",
       "      <td>15.900000</td>\n",
       "      <td>1.580000</td>\n",
       "      <td>1.000000</td>\n",
       "      <td>15.500000</td>\n",
       "      <td>0.611000</td>\n",
       "      <td>72.000000</td>\n",
       "      <td>289.000000</td>\n",
       "      <td>1.003690</td>\n",
       "      <td>4.010000</td>\n",
       "      <td>2.000000</td>\n",
       "      <td>14.900000</td>\n",
       "      <td>8.000000</td>\n",
       "    </tr>\n",
       "  </tbody>\n",
       "</table>\n",
       "</div>"
      ],
      "text/plain": [
       "       fixed acidity  volatile acidity  citric acid  residual sugar  \\\n",
       "count    1599.000000       1599.000000  1599.000000     1599.000000   \n",
       "mean        8.319637          0.527821     0.270976        2.538806   \n",
       "std         1.741096          0.179060     0.194801        1.409928   \n",
       "min         4.600000          0.120000     0.000000        0.900000   \n",
       "25%         7.100000          0.390000     0.090000        1.900000   \n",
       "50%         7.900000          0.520000     0.260000        2.200000   \n",
       "75%         9.200000          0.640000     0.420000        2.600000   \n",
       "max        15.900000          1.580000     1.000000       15.500000   \n",
       "\n",
       "         chlorides  free sulfur dioxide  total sulfur dioxide      density  \\\n",
       "count  1599.000000          1599.000000           1599.000000  1599.000000   \n",
       "mean      0.087467            15.874922             46.467792     0.996747   \n",
       "std       0.047065            10.460157             32.895324     0.001887   \n",
       "min       0.012000             1.000000              6.000000     0.990070   \n",
       "25%       0.070000             7.000000             22.000000     0.995600   \n",
       "50%       0.079000            14.000000             38.000000     0.996750   \n",
       "75%       0.090000            21.000000             62.000000     0.997835   \n",
       "max       0.611000            72.000000            289.000000     1.003690   \n",
       "\n",
       "                pH    sulphates      alcohol      quality  \n",
       "count  1599.000000  1599.000000  1599.000000  1599.000000  \n",
       "mean      3.311113     0.658149    10.422983     5.636023  \n",
       "std       0.154386     0.169507     1.065668     0.807569  \n",
       "min       2.740000     0.330000     8.400000     3.000000  \n",
       "25%       3.210000     0.550000     9.500000     5.000000  \n",
       "50%       3.310000     0.620000    10.200000     6.000000  \n",
       "75%       3.400000     0.730000    11.100000     6.000000  \n",
       "max       4.010000     2.000000    14.900000     8.000000  "
      ]
     },
     "execution_count": 10,
     "metadata": {},
     "output_type": "execute_result"
    }
   ],
   "source": [
    "data.describe()\n",
    "# DESCRIPCION GENERAL DEL DATASET"
   ]
  },
  {
   "cell_type": "code",
   "execution_count": 11,
   "id": "280a9631",
   "metadata": {},
   "outputs": [],
   "source": [
    "import matplotlib.pyplot as plt\n",
    "import seaborn as sns"
   ]
  },
  {
   "cell_type": "code",
   "execution_count": 12,
   "id": "c97ecb66",
   "metadata": {},
   "outputs": [
    {
     "data": {
      "text/plain": [
       "<AxesSubplot:>"
      ]
     },
     "execution_count": 12,
     "metadata": {},
     "output_type": "execute_result"
    },
    {
     "data": {
      "image/png": "[encoded data removed]",
      "text/plain": [
       "<Figure size 1000x500 with 2 Axes>"
      ]
     },
     "metadata": {},
     "output_type": "display_data"
    }
   ],
   "source": [
    "# VAMOS A VER LA CORRELACION ENTRE LOS INGREDIENTES ENTRE SI, Y LA CALIDAD.\n",
    "plt.figure(figsize=(10,5))\n",
    "sns.heatmap(data.corr(),annot=True,fmt='0.1f')"
   ]
  },
  {
   "cell_type": "code",
   "execution_count": 13,
   "id": "686eed8d",
   "metadata": {},
   "outputs": [
    {
     "data": {
      "text/plain": [
       "array([5, 6, 7, 4, 8, 3], dtype=int64)"
      ]
     },
     "execution_count": 13,
     "metadata": {},
     "output_type": "execute_result"
    }
   ],
   "source": [
    "data['quality'].unique()\n",
    "# ACA VEMOS QUE LOS VALORES POSIBLES DE CALIDAD SON ENTRE 3 Y 8, NO HAY CALIDAD EXCELENTE O BAJISIMO."
   ]
  },
  {
   "cell_type": "code",
   "execution_count": 14,
   "id": "019497f8",
   "metadata": {},
   "outputs": [],
   "source": [
    "data['quality']=[1 if x>=7 else 0 for x in data['quality']]\n",
    "# DEFINIMOS CALIDAD COMO SUPERIOR A 7, Y MALA CALIDAD COMO INFERIOR A 7.\n",
    "# ESTO ES ARBITRARIO, PODEMOS FIJARLO MAS ARRIBA SI QUEREMOS SER MAS ESTRICTOS CON EL NIVEL DE CALIDAD DESEADO."
   ]
  },
  {
   "cell_type": "code",
   "execution_count": 15,
   "id": "6e07d625",
   "metadata": {},
   "outputs": [
    {
     "data": {
      "text/plain": [
       "array([0, 1], dtype=int64)"
      ]
     },
     "execution_count": 15,
     "metadata": {},
     "output_type": "execute_result"
    }
   ],
   "source": [
    "data['quality'].unique()"
   ]
  },
  {
   "cell_type": "code",
   "execution_count": 16,
   "id": "085ed237",
   "metadata": {},
   "outputs": [
    {
     "data": {
      "text/plain": [
       "0    1382\n",
       "1     217\n",
       "Name: quality, dtype: int64"
      ]
     },
     "execution_count": 16,
     "metadata": {},
     "output_type": "execute_result"
    }
   ],
   "source": [
    "data['quality'].value_counts()\n",
    "# VEMOS QUE LA MAYORIA QUEDAN POR DEBAJO DE LA CALIDAD DESEADA PARA QUE SEA CALIFICADO COMO ALTA CALIDAD."
   ]
  },
  {
   "cell_type": "code",
   "execution_count": 17,
   "id": "c2940ada",
   "metadata": {},
   "outputs": [],
   "source": [
    "# Para abordar conjuntos de datos desequilibrados utilizamos SMOTE\n",
    "# Técnicas de generación de muestras: Utilizar algoritmos de generación de muestras, como SMOTE.\n",
    "# Para sintetizar ejemplos de la clase minoritaria y aumentar su representación en el conjunto de datos.\n",
    "from imblearn.over_sampling import SMOTE"
   ]
  },
  {
   "cell_type": "code",
   "execution_count": 82,
   "id": "1c56e2cd",
   "metadata": {},
   "outputs": [],
   "source": [
    "X_res,y_res = SMOTE().fit_resample(X,y)"
   ]
  },
  {
   "cell_type": "code",
   "execution_count": 83,
   "id": "d971f225",
   "metadata": {},
   "outputs": [
    {
     "data": {
      "text/plain": [
       "0    1382\n",
       "1    1382\n",
       "Name: quality, dtype: int64"
      ]
     },
     "execution_count": 83,
     "metadata": {},
     "output_type": "execute_result"
    }
   ],
   "source": [
    "y_res.value_counts()"
   ]
  },
  {
   "cell_type": "code",
   "execution_count": 81,
   "id": "7e98c3a2",
   "metadata": {},
   "outputs": [],
   "source": [
    "X = data.drop('quality',axis=1)\n",
    "y = data['quality']"
   ]
  },
  {
   "cell_type": "code",
   "execution_count": 84,
   "id": "c28df62e",
   "metadata": {},
   "outputs": [],
   "source": [
    "# SEPARAMOS LOS DATOS EN TRAIN Y TEST SETS.\n",
    "from sklearn.model_selection import train_test_split\n",
    "X_train,X_test,y_train,y_test = train_test_split(X_res,y_res,test_size=0.20,random_state=42)"
   ]
  },
  {
   "cell_type": "code",
   "execution_count": 85,
   "id": "ba338c8d",
   "metadata": {},
   "outputs": [],
   "source": [
    "from sklearn.preprocessing import StandardScaler"
   ]
  },
  {
   "cell_type": "code",
   "execution_count": 86,
   "id": "e968a469",
   "metadata": {},
   "outputs": [],
   "source": [
    "# ESTANDARIZAMOS EL CONJUNTO DE DATOS PARA QUE TENGA MEDIA 0, DESVIO ESTANDAR 1.\n",
    "# AL HACER ESTO, MEJORAMOS EL RENDIMIENTO DE NUESTRO MODELO.\n",
    "st  =StandardScaler()\n",
    "X_train = st.fit_transform(X_train)\n",
    "X_test = st.transform(X_test)"
   ]
  },
  {
   "cell_type": "code",
   "execution_count": 87,
   "id": "09020ddf",
   "metadata": {},
   "outputs": [
    {
     "data": {
      "text/plain": [
       "array([[-0.66757903,  0.74449982, -1.3736903 , ...,  0.41044579,\n",
       "        -1.2034822 , -0.58178071],\n",
       "       [ 1.26277493, -0.18684359,  1.32436954, ..., -1.0567709 ,\n",
       "        -0.03661344,  0.58441682],\n",
       "       [ 0.73328738,  2.39895977, -0.33458786, ...,  0.71724879,\n",
       "        -0.15571738,  0.26877687],\n",
       "       ...,\n",
       "       [ 0.3383726 ,  0.73890996, -1.63834711, ..., -0.83791666,\n",
       "        -0.41588199, -0.4376866 ],\n",
       "       [-0.16937499,  0.94641619, -1.11684341, ..., -0.09414188,\n",
       "         0.36461184,  0.00385307],\n",
       "       [-0.73353898,  0.85748495, -1.32544489, ...,  1.39340768,\n",
       "        -1.00125237, -1.23245801]])"
      ]
     },
     "execution_count": 87,
     "metadata": {},
     "output_type": "execute_result"
    }
   ],
   "source": [
    "X_train"
   ]
  },
  {
   "cell_type": "code",
   "execution_count": 88,
   "id": "d2df5ef2",
   "metadata": {},
   "outputs": [],
   "source": [
    "# APLICAMOS PCA.\n",
    "from sklearn.decomposition import PCA"
   ]
  },
  {
   "cell_type": "code",
   "execution_count": 89,
   "id": "35551c87",
   "metadata": {},
   "outputs": [],
   "source": [
    "# CAPTURA 90% DE LOS DATOS IMPORTANTES. RETIENE GRAN PARTE.\n",
    "pca = PCA(n_components=0.90)"
   ]
  },
  {
   "cell_type": "code",
   "execution_count": 90,
   "id": "6ae91767",
   "metadata": {},
   "outputs": [],
   "source": [
    "X_train = pca.fit_transform(X_train)\n",
    "X_test = pca.transform(X_test)"
   ]
  },
  {
   "cell_type": "code",
   "execution_count": 91,
   "id": "ca9a12d6",
   "metadata": {},
   "outputs": [
    {
     "data": {
      "text/plain": [
       "0.9178495662760627"
      ]
     },
     "execution_count": 91,
     "metadata": {},
     "output_type": "execute_result"
    }
   ],
   "source": [
    "sum(pca.explained_variance_ratio_)"
   ]
  },
  {
   "cell_type": "code",
   "execution_count": 92,
   "id": "41a7d94c",
   "metadata": {},
   "outputs": [
    {
     "data": {
      "text/plain": [
       "array([0.29146791, 0.18605716, 0.1397311 , 0.10705731, 0.08692844,\n",
       "       0.0590073 , 0.04760034])"
      ]
     },
     "execution_count": 92,
     "metadata": {},
     "output_type": "execute_result"
    }
   ],
   "source": [
    "pca.explained_variance_ratio_"
   ]
  },
  {
   "cell_type": "code",
   "execution_count": 93,
   "id": "9567e8b1",
   "metadata": {},
   "outputs": [
    {
     "data": {
      "text/plain": [
       "<matplotlib.collections.PathCollection at 0x20abb5b7af0>"
      ]
     },
     "execution_count": 93,
     "metadata": {},
     "output_type": "execute_result"
    },
    {
     "data": {
      "image/png": "[encoded data removed]",
      "text/plain": [
       "<Figure size 800x600 with 1 Axes>"
      ]
     },
     "metadata": {},
     "output_type": "display_data"
    }
   ],
   "source": [
    "plt.figure(figsize=(8, 6))\n",
    "plt.xlabel('Componente Principal 1')\n",
    "plt.ylabel('Componente Principal 2')\n",
    "plt.title('Visualización PCA de los Atributos de Vinos')\n",
    "plt.scatter(X_train[:, 0], X_train[:, 1])"
   ]
  },
  {
   "cell_type": "code",
   "execution_count": 94,
   "id": "d71f79b1",
   "metadata": {},
   "outputs": [],
   "source": [
    "# MODELO DE REGRESION LOGARITMICA.\n",
    "from sklearn.linear_model import LogisticRegression"
   ]
  },
  {
   "cell_type": "code",
   "execution_count": 95,
   "id": "b5ec19e8",
   "metadata": {},
   "outputs": [
    {
     "data": {
      "text/plain": [
       "LogisticRegression()"
      ]
     },
     "execution_count": 95,
     "metadata": {},
     "output_type": "execute_result"
    }
   ],
   "source": [
    "log = LogisticRegression()\n",
    "log.fit(X_train,y_train)"
   ]
  },
  {
   "cell_type": "code",
   "execution_count": 96,
   "id": "f3614570",
   "metadata": {},
   "outputs": [],
   "source": [
    "# PREDICCIONES HECHAS POR EL MODELO\n",
    "y_pred1 = log.predict(X_test)"
   ]
  },
  {
   "cell_type": "code",
   "execution_count": 97,
   "id": "01a613d6",
   "metadata": {},
   "outputs": [],
   "source": [
    "from sklearn.metrics import accuracy_score"
   ]
  },
  {
   "cell_type": "code",
   "execution_count": 98,
   "id": "5b4afbf4",
   "metadata": {},
   "outputs": [
    {
     "data": {
      "text/plain": [
       "0.8137432188065099"
      ]
     },
     "execution_count": 98,
     "metadata": {},
     "output_type": "execute_result"
    }
   ],
   "source": [
    "accuracy_score(y_test,y_pred1)"
   ]
  },
  {
   "cell_type": "code",
   "execution_count": 99,
   "id": "b5dc1b41",
   "metadata": {},
   "outputs": [],
   "source": [
    "from sklearn.metrics import precision_score,recall_score,f1_score\n",
    "# MAS METRICAS SOBRE LA CALIDAD DE LA PREDICCION"
   ]
  },
  {
   "cell_type": "code",
   "execution_count": 100,
   "id": "cd94ca08",
   "metadata": {},
   "outputs": [
    {
     "name": "stdout",
     "output_type": "stream",
     "text": [
      "0.7750865051903114\n",
      "0.8549618320610687\n",
      "0.8130671506352086\n"
     ]
    }
   ],
   "source": [
    "P=precision_score(y_test,y_pred1)\n",
    "R=recall_score(y_test,y_pred1)\n",
    "F=f1_score(y_test,y_pred1)\n",
    "print(P)\n",
    "print(R)\n",
    "print(F)"
   ]
  },
  {
   "cell_type": "code",
   "execution_count": 101,
   "id": "bb04ec43",
   "metadata": {},
   "outputs": [],
   "source": [
    "#SVC"
   ]
  },
  {
   "cell_type": "code",
   "execution_count": 102,
   "id": "4a652280",
   "metadata": {},
   "outputs": [],
   "source": [
    "from sklearn import svm"
   ]
  },
  {
   "cell_type": "code",
   "execution_count": 103,
   "id": "a1601c60",
   "metadata": {},
   "outputs": [],
   "source": [
    "svm = svm.SVC()"
   ]
  },
  {
   "cell_type": "code",
   "execution_count": 104,
   "id": "6b6cd934",
   "metadata": {},
   "outputs": [
    {
     "data": {
      "text/plain": [
       "SVC()"
      ]
     },
     "execution_count": 104,
     "metadata": {},
     "output_type": "execute_result"
    }
   ],
   "source": [
    "svm.fit(X_train,y_train)"
   ]
  },
  {
   "cell_type": "code",
   "execution_count": 105,
   "id": "df3dc747",
   "metadata": {},
   "outputs": [],
   "source": [
    "y_pred2 = svm.predict(X_test)"
   ]
  },
  {
   "cell_type": "code",
   "execution_count": 106,
   "id": "cd3b0e3b",
   "metadata": {},
   "outputs": [
    {
     "data": {
      "text/plain": [
       "0.8571428571428571"
      ]
     },
     "execution_count": 106,
     "metadata": {},
     "output_type": "execute_result"
    }
   ],
   "source": [
    "accuracy_score(y_test,y_pred2)"
   ]
  },
  {
   "cell_type": "code",
   "execution_count": 107,
   "id": "1156bd0f",
   "metadata": {},
   "outputs": [
    {
     "data": {
      "text/plain": [
       "0.8144329896907216"
      ]
     },
     "execution_count": 107,
     "metadata": {},
     "output_type": "execute_result"
    }
   ],
   "source": [
    "precision_score(y_test,y_pred2)"
   ]
  },
  {
   "cell_type": "code",
   "execution_count": 108,
   "id": "7a0f79b5",
   "metadata": {},
   "outputs": [
    {
     "data": {
      "text/plain": [
       "0.8130671506352086"
      ]
     },
     "execution_count": 108,
     "metadata": {},
     "output_type": "execute_result"
    }
   ],
   "source": [
    "f1_score(y_test,y_pred1)"
   ]
  },
  {
   "cell_type": "code",
   "execution_count": 109,
   "id": "6b5a7eb0",
   "metadata": {},
   "outputs": [],
   "source": [
    "# KNN\n",
    "from sklearn.neighbors import KNeighborsClassifier"
   ]
  },
  {
   "cell_type": "code",
   "execution_count": 110,
   "id": "4443a590",
   "metadata": {},
   "outputs": [],
   "source": [
    "knn = KNeighborsClassifier()"
   ]
  },
  {
   "cell_type": "code",
   "execution_count": 111,
   "id": "8048acc3",
   "metadata": {},
   "outputs": [
    {
     "data": {
      "text/plain": [
       "KNeighborsClassifier()"
      ]
     },
     "execution_count": 111,
     "metadata": {},
     "output_type": "execute_result"
    }
   ],
   "source": [
    "knn.fit(X_train,y_train)"
   ]
  },
  {
   "cell_type": "code",
   "execution_count": 112,
   "id": "70758e70",
   "metadata": {},
   "outputs": [
    {
     "name": "stderr",
     "output_type": "stream",
     "text": [
      "C:\\Users\\RAMP\\anaconda3\\lib\\site-packages\\sklearn\\neighbors\\_classification.py:228: FutureWarning: Unlike other reduction functions (e.g. `skew`, `kurtosis`), the default behavior of `mode` typically preserves the axis it acts along. In SciPy 1.11.0, this behavior will change: the default value of `keepdims` will become False, the `axis` over which the statistic is taken will be eliminated, and the value None will no longer be accepted. Set `keepdims` to True or False to avoid this warning.\n",
      "  mode, _ = stats.mode(_y[neigh_ind, k], axis=1)\n"
     ]
    }
   ],
   "source": [
    "y_pred3 = knn.predict(X_test)"
   ]
  },
  {
   "cell_type": "code",
   "execution_count": 113,
   "id": "111c30f9",
   "metadata": {},
   "outputs": [
    {
     "data": {
      "text/plain": [
       "0.8698010849909584"
      ]
     },
     "execution_count": 113,
     "metadata": {},
     "output_type": "execute_result"
    }
   ],
   "source": [
    "accuracy_score(y_test,y_pred3)"
   ]
  },
  {
   "cell_type": "code",
   "execution_count": 114,
   "id": "4d3295d0",
   "metadata": {},
   "outputs": [
    {
     "data": {
      "text/plain": [
       "0.7987421383647799"
      ]
     },
     "execution_count": 114,
     "metadata": {},
     "output_type": "execute_result"
    }
   ],
   "source": [
    "precision_score(y_test,y_pred3)"
   ]
  },
  {
   "cell_type": "code",
   "execution_count": 115,
   "id": "09eb7baa",
   "metadata": {},
   "outputs": [
    {
     "data": {
      "text/plain": [
       "0.9694656488549618"
      ]
     },
     "execution_count": 115,
     "metadata": {},
     "output_type": "execute_result"
    }
   ],
   "source": [
    "recall_score(y_test,y_pred3)"
   ]
  },
  {
   "cell_type": "code",
   "execution_count": 116,
   "id": "588fcc07",
   "metadata": {},
   "outputs": [
    {
     "data": {
      "text/plain": [
       "0.8758620689655173"
      ]
     },
     "execution_count": 116,
     "metadata": {},
     "output_type": "execute_result"
    }
   ],
   "source": [
    "f1_score(y_test,y_pred3)"
   ]
  },
  {
   "cell_type": "code",
   "execution_count": 117,
   "id": "0613584e",
   "metadata": {},
   "outputs": [],
   "source": [
    "# ARBOL DE DESICION\n",
    "from sklearn.tree import DecisionTreeClassifier"
   ]
  },
  {
   "cell_type": "code",
   "execution_count": 118,
   "id": "e02ab5a0",
   "metadata": {},
   "outputs": [],
   "source": [
    "dt =DecisionTreeClassifier()"
   ]
  },
  {
   "cell_type": "code",
   "execution_count": 119,
   "id": "66a6ec38",
   "metadata": {},
   "outputs": [
    {
     "data": {
      "text/plain": [
       "DecisionTreeClassifier()"
      ]
     },
     "execution_count": 119,
     "metadata": {},
     "output_type": "execute_result"
    }
   ],
   "source": [
    "dt.fit(X_train,y_train)"
   ]
  },
  {
   "cell_type": "code",
   "execution_count": 120,
   "id": "c2eb43c9",
   "metadata": {},
   "outputs": [],
   "source": [
    "y_pred4 = dt.predict(X_test)"
   ]
  },
  {
   "cell_type": "code",
   "execution_count": 121,
   "id": "119ff694",
   "metadata": {},
   "outputs": [
    {
     "data": {
      "text/plain": [
       "0.8878842676311031"
      ]
     },
     "execution_count": 121,
     "metadata": {},
     "output_type": "execute_result"
    }
   ],
   "source": [
    "accuracy_score(y_test,y_pred4)"
   ]
  },
  {
   "cell_type": "code",
   "execution_count": 122,
   "id": "9f3d0acb",
   "metadata": {},
   "outputs": [
    {
     "data": {
      "text/plain": [
       "0.8496503496503497"
      ]
     },
     "execution_count": 122,
     "metadata": {},
     "output_type": "execute_result"
    }
   ],
   "source": [
    "precision_score(y_test,y_pred4)"
   ]
  },
  {
   "cell_type": "code",
   "execution_count": 123,
   "id": "21a1a026",
   "metadata": {},
   "outputs": [
    {
     "data": {
      "text/plain": [
       "0.8868613138686131"
      ]
     },
     "execution_count": 123,
     "metadata": {},
     "output_type": "execute_result"
    }
   ],
   "source": [
    "f1_score(y_test,y_pred4)"
   ]
  },
  {
   "cell_type": "code",
   "execution_count": 124,
   "id": "2922cdd5",
   "metadata": {},
   "outputs": [],
   "source": [
    "# RANDOM FOREST\n",
    "from sklearn.ensemble import RandomForestClassifier"
   ]
  },
  {
   "cell_type": "code",
   "execution_count": 125,
   "id": "7aa6c49d",
   "metadata": {},
   "outputs": [
    {
     "data": {
      "text/plain": [
       "RandomForestClassifier(n_estimators=250)"
      ]
     },
     "execution_count": 125,
     "metadata": {},
     "output_type": "execute_result"
    }
   ],
   "source": [
    "rf = RandomForestClassifier(n_estimators=250)\n",
    "rf.fit(X_train,y_train)"
   ]
  },
  {
   "cell_type": "code",
   "execution_count": 126,
   "id": "a8bb7110",
   "metadata": {},
   "outputs": [],
   "source": [
    "y_pred5 = rf.predict(X_test)"
   ]
  },
  {
   "cell_type": "code",
   "execution_count": 127,
   "id": "a546b68e",
   "metadata": {},
   "outputs": [
    {
     "data": {
      "text/plain": [
       "0.9222423146473779"
      ]
     },
     "execution_count": 127,
     "metadata": {},
     "output_type": "execute_result"
    }
   ],
   "source": [
    "accuracy_score(y_test,y_pred5)"
   ]
  },
  {
   "cell_type": "code",
   "execution_count": 128,
   "id": "a51d318d",
   "metadata": {},
   "outputs": [
    {
     "data": {
      "text/plain": [
       "0.8815331010452961"
      ]
     },
     "execution_count": 128,
     "metadata": {},
     "output_type": "execute_result"
    }
   ],
   "source": [
    "precision_score(y_test,y_pred5)"
   ]
  },
  {
   "cell_type": "code",
   "execution_count": 129,
   "id": "7759536b",
   "metadata": {},
   "outputs": [
    {
     "data": {
      "text/plain": [
       "0.9216757741347905"
      ]
     },
     "execution_count": 129,
     "metadata": {},
     "output_type": "execute_result"
    }
   ],
   "source": [
    "f1_score(y_test,y_pred5)"
   ]
  },
  {
   "cell_type": "code",
   "execution_count": 130,
   "id": "f24d9801",
   "metadata": {},
   "outputs": [],
   "source": [
    "# GRADIENT BOOST\n",
    "from sklearn.ensemble import GradientBoostingClassifier"
   ]
  },
  {
   "cell_type": "code",
   "execution_count": 131,
   "id": "1aa597b5",
   "metadata": {},
   "outputs": [
    {
     "data": {
      "text/plain": [
       "GradientBoostingClassifier()"
      ]
     },
     "execution_count": 131,
     "metadata": {},
     "output_type": "execute_result"
    }
   ],
   "source": [
    "gbc = GradientBoostingClassifier()\n",
    "gbc.fit(X_train,y_train)"
   ]
  },
  {
   "cell_type": "code",
   "execution_count": 132,
   "id": "aa1b9f70",
   "metadata": {},
   "outputs": [],
   "source": [
    "y_pred6 = gbc.predict(X_test)"
   ]
  },
  {
   "cell_type": "code",
   "execution_count": 133,
   "id": "0a188ecc",
   "metadata": {},
   "outputs": [
    {
     "data": {
      "text/plain": [
       "0.8878842676311031"
      ]
     },
     "execution_count": 133,
     "metadata": {},
     "output_type": "execute_result"
    }
   ],
   "source": [
    "accuracy_score(y_test,y_pred6)"
   ]
  },
  {
   "cell_type": "code",
   "execution_count": 134,
   "id": "360e8838",
   "metadata": {},
   "outputs": [
    {
     "data": {
      "text/plain": [
       "0.8496503496503497"
      ]
     },
     "execution_count": 134,
     "metadata": {},
     "output_type": "execute_result"
    }
   ],
   "source": [
    "precision_score(y_test,y_pred6)"
   ]
  },
  {
   "cell_type": "code",
   "execution_count": 135,
   "id": "29e1754c",
   "metadata": {},
   "outputs": [
    {
     "data": {
      "text/plain": [
       "0.8868613138686131"
      ]
     },
     "execution_count": 135,
     "metadata": {},
     "output_type": "execute_result"
    }
   ],
   "source": [
    "f1_score(y_test,y_pred6)"
   ]
  },
  {
   "cell_type": "code",
   "execution_count": 136,
   "id": "09511fad",
   "metadata": {},
   "outputs": [],
   "source": [
    "import pandas as pd"
   ]
  },
  {
   "cell_type": "code",
   "execution_count": 137,
   "id": "a1b98675",
   "metadata": {},
   "outputs": [],
   "source": [
    "final_data = pd.DataFrame({'Models':['LR','SVC','KNN','DT','RF','GBC'],\n",
    "             'ACC':[accuracy_score(y_test,y_pred1)*100,\n",
    "                   accuracy_score(y_test,y_pred2)*100,\n",
    "                   accuracy_score(y_test,y_pred3)*100,\n",
    "                   accuracy_score(y_test,y_pred4)*100,\n",
    "                   accuracy_score(y_test,y_pred5)*100,\n",
    "                   accuracy_score(y_test,y_pred6)*100]})"
   ]
  },
  {
   "cell_type": "code",
   "execution_count": 138,
   "id": "a8b36833",
   "metadata": {},
   "outputs": [
    {
     "data": {
      "text/html": [
       "<div>\n",
       "<style scoped>\n",
       "    .dataframe tbody tr th:only-of-type {\n",
       "        vertical-align: middle;\n",
       "    }\n",
       "\n",
       "    .dataframe tbody tr th {\n",
       "        vertical-align: top;\n",
       "    }\n",
       "\n",
       "    .dataframe thead th {\n",
       "        text-align: right;\n",
       "    }\n",
       "</style>\n",
       "<table border=\"1\" class=\"dataframe\">\n",
       "  <thead>\n",
       "    <tr style=\"text-align: right;\">\n",
       "      <th></th>\n",
       "      <th>Models</th>\n",
       "      <th>ACC</th>\n",
       "    </tr>\n",
       "  </thead>\n",
       "  <tbody>\n",
       "    <tr>\n",
       "      <th>0</th>\n",
       "      <td>LR</td>\n",
       "      <td>81.374322</td>\n",
       "    </tr>\n",
       "    <tr>\n",
       "      <th>1</th>\n",
       "      <td>SVC</td>\n",
       "      <td>85.714286</td>\n",
       "    </tr>\n",
       "    <tr>\n",
       "      <th>2</th>\n",
       "      <td>KNN</td>\n",
       "      <td>86.980108</td>\n",
       "    </tr>\n",
       "    <tr>\n",
       "      <th>3</th>\n",
       "      <td>DT</td>\n",
       "      <td>88.788427</td>\n",
       "    </tr>\n",
       "    <tr>\n",
       "      <th>4</th>\n",
       "      <td>RF</td>\n",
       "      <td>92.224231</td>\n",
       "    </tr>\n",
       "    <tr>\n",
       "      <th>5</th>\n",
       "      <td>GBC</td>\n",
       "      <td>88.788427</td>\n",
       "    </tr>\n",
       "  </tbody>\n",
       "</table>\n",
       "</div>"
      ],
      "text/plain": [
       "  Models        ACC\n",
       "0     LR  81.374322\n",
       "1    SVC  85.714286\n",
       "2    KNN  86.980108\n",
       "3     DT  88.788427\n",
       "4     RF  92.224231\n",
       "5    GBC  88.788427"
      ]
     },
     "execution_count": 138,
     "metadata": {},
     "output_type": "execute_result"
    }
   ],
   "source": [
    "final_data\n",
    "# ACA PODEMOS VER LA EFICACIA DE CADA MODELO SOBRE NUESTRO DATASET."
   ]
  },
  {
   "cell_type": "code",
   "execution_count": 139,
   "id": "c65a653f",
   "metadata": {},
   "outputs": [],
   "source": [
    "# VAMOS A GENERAR UN MODELO CON RF(EL MEJOR MODELO).\n",
    "X = data.drop('quality',axis=1)\n",
    "y = data['quality']"
   ]
  },
  {
   "cell_type": "code",
   "execution_count": 140,
   "id": "bb044ea6",
   "metadata": {},
   "outputs": [],
   "source": [
    "from imblearn.over_sampling import SMOTE\n",
    "X_res,y_res = SMOTE().fit_resample(X,y)"
   ]
  },
  {
   "cell_type": "code",
   "execution_count": 141,
   "id": "8fb60bb6",
   "metadata": {},
   "outputs": [],
   "source": [
    "from sklearn.preprocessing import StandardScaler\n",
    "st = StandardScaler()\n",
    "X = st.fit_transform(X_res)"
   ]
  },
  {
   "cell_type": "code",
   "execution_count": 142,
   "id": "b5b87e22",
   "metadata": {},
   "outputs": [],
   "source": [
    "X = pca.fit_transform(X)"
   ]
  },
  {
   "cell_type": "code",
   "execution_count": 143,
   "id": "b8a850b8",
   "metadata": {},
   "outputs": [
    {
     "data": {
      "text/plain": [
       "RandomForestClassifier()"
      ]
     },
     "execution_count": 143,
     "metadata": {},
     "output_type": "execute_result"
    }
   ],
   "source": [
    "from sklearn.ensemble import RandomForestClassifier\n",
    "rf = RandomForestClassifier()\n",
    "rf.fit(X,y_res)"
   ]
  },
  {
   "cell_type": "code",
   "execution_count": 144,
   "id": "4d0fbd0f",
   "metadata": {},
   "outputs": [],
   "source": [
    "import joblib\n",
    "# SE USA PARA GUARDAR Y CARGAR OBJETOS DE PYTHON COMO NUESTRO MODELO"
   ]
  },
  {
   "cell_type": "code",
   "execution_count": 145,
   "id": "487a2f59",
   "metadata": {},
   "outputs": [
    {
     "data": {
      "text/plain": [
       "['wine_quality_prediction']"
      ]
     },
     "execution_count": 145,
     "metadata": {},
     "output_type": "execute_result"
    }
   ],
   "source": [
    "joblib.dump(rf,'wine_quality_prediction')"
   ]
  },
  {
   "cell_type": "code",
   "execution_count": 146,
   "id": "67909f7b",
   "metadata": {},
   "outputs": [],
   "source": [
    "model = joblib.load('wine_quality_prediction')"
   ]
  },
  {
   "cell_type": "code",
   "execution_count": 147,
   "id": "d0bfd4de",
   "metadata": {},
   "outputs": [],
   "source": [
    "# VAMOS A GENERAR UN VINO INVENTADO PARA PROBAR NUESTRO MODELO"
   ]
  },
  {
   "cell_type": "code",
   "execution_count": 148,
   "id": "201cd548",
   "metadata": {},
   "outputs": [],
   "source": [
    "import pandas as pd\n",
    "new_data = pd.DataFrame({\n",
    "    'fixed acidity':7.3,\n",
    "    'volatile acidity':0.65,\n",
    "    'citric acid':0.00,\n",
    "    'residual sugar':1.2,\n",
    "    'chlorides':0.065,\n",
    "    'free sulfur dioxide':15.0,\n",
    "    'total sulfur dioxide':21.0,\n",
    "    'density':0.9946,\n",
    "    'pH':3.39,\n",
    "    'sulphates':0.47,\n",
    "    'alcohol':10.0,\n",
    "     \n",
    "},index=[0])"
   ]
  },
  {
   "cell_type": "code",
   "execution_count": 149,
   "id": "74b43bef",
   "metadata": {},
   "outputs": [
    {
     "data": {
      "text/html": [
       "<div>\n",
       "<style scoped>\n",
       "    .dataframe tbody tr th:only-of-type {\n",
       "        vertical-align: middle;\n",
       "    }\n",
       "\n",
       "    .dataframe tbody tr th {\n",
       "        vertical-align: top;\n",
       "    }\n",
       "\n",
       "    .dataframe thead th {\n",
       "        text-align: right;\n",
       "    }\n",
       "</style>\n",
       "<table border=\"1\" class=\"dataframe\">\n",
       "  <thead>\n",
       "    <tr style=\"text-align: right;\">\n",
       "      <th></th>\n",
       "      <th>fixed acidity</th>\n",
       "      <th>volatile acidity</th>\n",
       "      <th>citric acid</th>\n",
       "      <th>residual sugar</th>\n",
       "      <th>chlorides</th>\n",
       "      <th>free sulfur dioxide</th>\n",
       "      <th>total sulfur dioxide</th>\n",
       "      <th>density</th>\n",
       "      <th>pH</th>\n",
       "      <th>sulphates</th>\n",
       "      <th>alcohol</th>\n",
       "    </tr>\n",
       "  </thead>\n",
       "  <tbody>\n",
       "    <tr>\n",
       "      <th>0</th>\n",
       "      <td>7.3</td>\n",
       "      <td>0.65</td>\n",
       "      <td>0.0</td>\n",
       "      <td>1.2</td>\n",
       "      <td>0.065</td>\n",
       "      <td>15.0</td>\n",
       "      <td>21.0</td>\n",
       "      <td>0.9946</td>\n",
       "      <td>3.39</td>\n",
       "      <td>0.47</td>\n",
       "      <td>10.0</td>\n",
       "    </tr>\n",
       "  </tbody>\n",
       "</table>\n",
       "</div>"
      ],
      "text/plain": [
       "   fixed acidity  volatile acidity  citric acid  residual sugar  chlorides  \\\n",
       "0            7.3              0.65          0.0             1.2      0.065   \n",
       "\n",
       "   free sulfur dioxide  total sulfur dioxide  density    pH  sulphates  \\\n",
       "0                 15.0                  21.0   0.9946  3.39       0.47   \n",
       "\n",
       "   alcohol  \n",
       "0     10.0  "
      ]
     },
     "execution_count": 149,
     "metadata": {},
     "output_type": "execute_result"
    }
   ],
   "source": [
    "new_data"
   ]
  },
  {
   "cell_type": "code",
   "execution_count": 150,
   "id": "63833040",
   "metadata": {},
   "outputs": [],
   "source": [
    "test = pca.transform(st.transform(new_data))"
   ]
  },
  {
   "cell_type": "code",
   "execution_count": 151,
   "id": "1a9ebcca",
   "metadata": {},
   "outputs": [],
   "source": [
    "p = model.predict(test)"
   ]
  },
  {
   "cell_type": "code",
   "execution_count": 152,
   "id": "8dbbe592",
   "metadata": {},
   "outputs": [
    {
     "name": "stdout",
     "output_type": "stream",
     "text": [
      "Good Quality Wine\n"
     ]
    }
   ],
   "source": [
    "if p[0] == 1: \n",
    "    print(\"Good Quality Wine\")\n",
    "else:\n",
    "    print(\"Bad Quality Wine\")"
   ]
  },
  {
   "cell_type": "code",
   "execution_count": 153,
   "id": "ba25151d",
   "metadata": {},
   "outputs": [],
   "source": [
    "# NUESTRO VINO TERMINO SIENDO DE BUENA CALIDAD PARA NUESTRO MODELO."
   ]
  },
  {
   "cell_type": "code",
   "execution_count": 154,
   "id": "e1bbde53",
   "metadata": {},
   "outputs": [],
   "source": [
    "from tkinter import *\n",
    "from sklearn.preprocessing import StandardScaler\n",
    "import joblib"
   ]
  },
  {
   "cell_type": "code",
   "execution_count": 156,
   "id": "93a6af85",
   "metadata": {},
   "outputs": [
    {
     "name": "stderr",
     "output_type": "stream",
     "text": [
      "C:\\Users\\RAMP\\anaconda3\\lib\\site-packages\\sklearn\\base.py:450: UserWarning: X does not have valid feature names, but StandardScaler was fitted with feature names\n",
      "  warnings.warn(\n",
      "C:\\Users\\RAMP\\anaconda3\\lib\\site-packages\\sklearn\\base.py:450: UserWarning: X does not have valid feature names, but StandardScaler was fitted with feature names\n",
      "  warnings.warn(\n",
      "C:\\Users\\RAMP\\anaconda3\\lib\\site-packages\\sklearn\\base.py:450: UserWarning: X does not have valid feature names, but StandardScaler was fitted with feature names\n",
      "  warnings.warn(\n",
      "C:\\Users\\RAMP\\anaconda3\\lib\\site-packages\\sklearn\\base.py:450: UserWarning: X does not have valid feature names, but StandardScaler was fitted with feature names\n",
      "  warnings.warn(\n",
      "C:\\Users\\RAMP\\anaconda3\\lib\\site-packages\\sklearn\\base.py:450: UserWarning: X does not have valid feature names, but StandardScaler was fitted with feature names\n",
      "  warnings.warn(\n",
      "C:\\Users\\RAMP\\anaconda3\\lib\\site-packages\\sklearn\\base.py:450: UserWarning: X does not have valid feature names, but StandardScaler was fitted with feature names\n",
      "  warnings.warn(\n",
      "C:\\Users\\RAMP\\anaconda3\\lib\\site-packages\\sklearn\\base.py:450: UserWarning: X does not have valid feature names, but StandardScaler was fitted with feature names\n",
      "  warnings.warn(\n",
      "C:\\Users\\RAMP\\anaconda3\\lib\\site-packages\\sklearn\\base.py:450: UserWarning: X does not have valid feature names, but StandardScaler was fitted with feature names\n",
      "  warnings.warn(\n",
      "C:\\Users\\RAMP\\anaconda3\\lib\\site-packages\\sklearn\\base.py:450: UserWarning: X does not have valid feature names, but StandardScaler was fitted with feature names\n",
      "  warnings.warn(\n",
      "C:\\Users\\RAMP\\anaconda3\\lib\\site-packages\\sklearn\\base.py:450: UserWarning: X does not have valid feature names, but StandardScaler was fitted with feature names\n",
      "  warnings.warn(\n",
      "C:\\Users\\RAMP\\anaconda3\\lib\\site-packages\\sklearn\\base.py:450: UserWarning: X does not have valid feature names, but StandardScaler was fitted with feature names\n",
      "  warnings.warn(\n"
     ]
    }
   ],
   "source": [
    "def show_entry_fields():\n",
    "    p1=float(e1.get())\n",
    "    p2=float(e2.get())\n",
    "    p3=float(e3.get())\n",
    "    p4=float(e4.get())\n",
    "    p5=float(e5.get())\n",
    "    p6=float(e6.get())\n",
    "    p7=float(e7.get())\n",
    "    p8=float(e8.get())\n",
    "    p9=float(e9.get()) \n",
    "    p10=float(e10.get())\n",
    "    p11=float(e11.get())\n",
    "    model = joblib.load('wine_quality_prediction')\n",
    "    result=model.predict(pca.transform(st.transform([[p1,p2,p3,p4,p5,p6,\n",
    "                           p7,p8,p9,p10,p11]])))\n",
    "    \n",
    "    if result[0] == 0:\n",
    "        Label(master, text=\"Bad Quality Wine\").grid(row=31)\n",
    "    else:\n",
    "        Label(master, text=\"Good Quality Wine\").grid(row=31)\n",
    "    \n",
    "    \n",
    "master = Tk()\n",
    "master.title(\"Wine Quality Prediction Using Machine Learning\")\n",
    "\n",
    "\n",
    "label = Label(master, text = \"Wine Quality Prediction Using ML\"\n",
    "                          , bg = \"black\", fg = \"white\"). \\\n",
    "                               grid(row=0,columnspan=2)\n",
    "\n",
    "Label(master, text=\"fixed acidity\").grid(row=1)\n",
    "Label(master, text=\"volatile acidity\").grid(row=2)\n",
    "Label(master, text=\"citric acid\").grid(row=3)\n",
    "Label(master, text=\"residual sugar\").grid(row=4)\n",
    "Label(master, text=\"chlorides\").grid(row=5)\n",
    "Label(master, text=\"free sulfur dioxide\").grid(row=6)\n",
    "Label(master, text=\"total sulfur dioxide\").grid(row=7)\n",
    "Label(master, text=\"density\").grid(row=8)\n",
    "Label(master, text=\"pH\").grid(row=9)\n",
    "Label(master, text=\"sulphates\").grid(row=10)\n",
    "Label(master,text=\"alcohol\").grid(row=11)\n",
    "\n",
    "\n",
    "e1 = Entry(master)\n",
    "e2 = Entry(master)\n",
    "e3 = Entry(master)\n",
    "e4 = Entry(master)\n",
    "e5 = Entry(master)\n",
    "e6 = Entry(master)\n",
    "e7 = Entry(master)\n",
    "e8 = Entry(master)\n",
    "e9 = Entry(master)\n",
    "e10 = Entry(master)\n",
    "e11 = Entry(master)\n",
    "\n",
    "e1.grid(row=1, column=1)\n",
    "e2.grid(row=2, column=1)\n",
    "e3.grid(row=3, column=1)\n",
    "e4.grid(row=4, column=1)\n",
    "e5.grid(row=5, column=1)\n",
    "e6.grid(row=6, column=1)\n",
    "e7.grid(row=7, column=1)\n",
    "e8.grid(row=8, column=1)\n",
    "e9.grid(row=9, column=1)\n",
    "e10.grid(row=10,column=1)\n",
    "e11.grid(row=11,column=1)\n",
    "\n",
    "\n",
    "Button(master, text='Predict', command=show_entry_fields).grid()\n",
    "\n",
    "mainloop()"
   ]
  },
  {
   "cell_type": "code",
   "execution_count": null,
   "id": "237b05e9",
   "metadata": {},
   "outputs": [],
   "source": [
    "'''\n",
    "En el caso del modelo Random Forest, cada árbol se construye utilizando una muestra aleatoria del conjunto\n",
    "de datos de entrenamiento y una selección aleatoria de características.\n",
    "\n",
    "Cuando se entrena un árbol en el Random Forest, en cada división del árbol se considera solo un subconjunto de \n",
    "características en lugar de todas las características disponibles. Esta selección aleatoria de características \n",
    "ayuda a introducir diversidad en los árboles y evita que todos los árboles se ajusten demasiado a las mismas características \n",
    "dominantes.\n",
    "\n",
    "La cantidad de características seleccionadas en cada división generalmente se establece mediante un parámetro llamado\n",
    "\"max_features\". Puedes ajustar este parámetro según tus necesidades. Si no se especifica, el valor predeterminado es \"auto\", \n",
    "lo que significa que el número de características seleccionadas será igual a la raíz cuadrada del total de características. \n",
    "Sin embargo, también puedes establecer un número fijo o un porcentaje para controlar la cantidad de características \n",
    "utilizadas en cada árbol.\n",
    "\n",
    "Esta selección aleatoria de características en cada árbol permite que cada uno de ellos explore diferentes aspectos \n",
    "del conjunto de datos y capture diferentes relaciones entre las características y las etiquetas. \n",
    "Luego, durante la fase de predicción, cada árbol emite una predicción individual y, en el caso de la clasificación, \n",
    "se utiliza un voto mayoritario para determinar la clase final.\n",
    "\n",
    "En el contexto de tu problema de clasificación de vinos, el modelo Random Forest tomará un subconjunto aleatorio de\n",
    "características, como el contenido de ácido cítrico, la cantidad de azúcar residual, la acidez volátil, etc., en cada árbol. \n",
    "Cada árbol considerará diferentes combinaciones de características y aprenderá a asignarlas a la calidad del vino.\n",
    "Al combinar las predicciones de todos los árboles, el modelo final proporcionará una evaluación más precisa y robusta de la \n",
    "calidad del vino.\n",
    "'''"
   ]
  },
  {
   "cell_type": "code",
   "execution_count": null,
   "id": "0cffbbbb",
   "metadata": {},
   "outputs": [],
   "source": [
    "'''\n",
    "Random Forest es un algoritmo inteligente que utiliza muchos \"árboles de decisión\" para predecir la calidad de un vino. \n",
    "Cada árbol de decisión es como una especie de \"experto\" que toma decisiones basadas en reglas simples. \n",
    "En lugar de depender de la opinión de un solo \"experto\", \n",
    "Random Forest combina la opinión de muchos árboles de decisión para llegar a una predicción más precisa.\n",
    "\n",
    "Cada árbol de decisión se entrena con diferentes características y una parte de los datos de vino. \n",
    "Luego, cuando necesitas hacer una predicción sobre un vino nuevo, cada árbol en el bosque emite su propia opinión\n",
    "y el resultado que obtiene más votos se considera la predicción final.\n",
    "\n",
    "Random Forest es muy útil porque puede manejar grandes cantidades de datos y características, y también puede lidiar \n",
    "con datos faltantes. Además, te proporciona información sobre qué características son más importantes para determinar\n",
    "la calidad del vino, lo que puede ser muy útil para entender qué factores influyen en la clasificación de un vino.\n",
    "'''"
   ]
  },
  {
   "cell_type": "code",
   "execution_count": null,
   "id": "7392ac02",
   "metadata": {},
   "outputs": [],
   "source": [
    "'''Random Forest es un algoritmo de aprendizaje automático \n",
    "que se utiliza comúnmente para problemas de clasificación y regresión. \n",
    "En el caso de tu proyecto de clasificación de vinos, Random Forest puede ayudarte \n",
    "a predecir la calidad del vino en función de diferentes características.\n",
    "\n",
    "Random Forest se basa en la combinación de múltiples árboles de decisión, \n",
    "los cuales son estructuras de tipo árbol que toman decisiones basadas en reglas de \"si-entonces\".\n",
    "Cada árbol de decisión se entrena con una muestra aleatoria de los datos y utiliza una selección aleatoria de características \n",
    "en cada división del árbol.\n",
    "\n",
    "Durante la fase de entrenamiento, Random Forest crea un conjunto de árboles de decisión independientes, \n",
    "donde cada árbol es entrenado con una parte del conjunto de datos y utiliza diferentes subconjuntos de características. \n",
    "Para realizar una predicción, cada árbol en el bosque emite su propia predicción y la clase que obtiene más votos \n",
    "se considera la predicción final.'''"
   ]
  }
 ],
 "metadata": {
  "kernelspec": {
   "display_name": "Python 3 (ipykernel)",
   "language": "python",
   "name": "python3"
  },
  "language_info": {
   "codemirror_mode": {
    "name": "ipython",
    "version": 3
   },
   "file_extension": ".py",
   "mimetype": "text/x-python",
   "name": "python",
   "nbconvert_exporter": "python",
   "pygments_lexer": "ipython3",
   "version": "3.9.13"
  }
 },
 "nbformat": 4,
 "nbformat_minor": 5
}
